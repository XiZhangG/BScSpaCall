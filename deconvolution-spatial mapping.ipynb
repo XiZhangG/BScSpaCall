{
 "cells": [
  {
   "cell_type": "code",
   "execution_count": null,
   "id": "d2999ce3",
   "metadata": {},
   "outputs": [],
   "source": [
    "import scanpy\n",
    "import pandas as pd\n",
    "import numpy as np\n",
    "import matplotlib.colors as clr\n",
    "import matplotlib.pyplot as plt\n",
    "from scipy.stats import pearsonr"
   ]
  },
  {
   "cell_type": "code",
   "execution_count": null,
   "id": "9ff5947b",
   "metadata": {},
   "outputs": [],
   "source": [
    "import bulk2space\n",
    "from bulk2space import Bulk2Space\n",
    "model = Bulk2Space()\n",
    "generate_sc_meta, generate_sc_data = model.train_vae_and_generate(\n",
    "    input_bulk_path='E:/demo1/demo1_bulk.csv',\n",
    "    input_sc_data_path='E:/demo1/demo1_sc_data.csv',\n",
    "    input_sc_meta_path='E:/demo1/demo1_sc_meta.csv',\n",
    "    input_st_data_path='E:/demo1/demo1_st_data.csv',\n",
    "    input_st_meta_path='E:/demo1/demo1_st_meta.csv',\n",
    "    ratio_num=1,\n",
    "    top_marker_num=500,\n",
    "    gpu=0,\n",
    "    batch_size=512,\n",
    "    learning_rate=1e-4,\n",
    "    hidden_size=256,\n",
    "    epoch_num=20,\n",
    "    vae_save_dir='C:/Users/sun/Desktop/tutorial/data/example_data/demo1/predata/save_model_1',\n",
    "    vae_save_name='demo1_vae',\n",
    "    generate_save_dir='C:/Users/sun/Desktop/tutorial/data/example_data/demo1/predata/output_1',\n",
    "    generate_save_name='demo1')"
   ]
  },
  {
   "cell_type": "code",
   "execution_count": null,
   "id": "bcbc3b42",
   "metadata": {},
   "outputs": [],
   "source": [
    "generate_sc_meta, generate_sc_data = model.load_vae_and_generate(\n",
    "    input_bulk_path='E:/demo1/demo1_bulk.csv',\n",
    "    input_sc_data_path='E:/demo1/demo1_sc_data.csv',\n",
    "    input_sc_meta_path='E:/demo1/demo1_sc_meta.csv',\n",
    "    input_st_data_path='E:/demo1/demo1_st_data.csv',\n",
    "    input_st_meta_path='E:/demo1/demo1_st_meta.csv',\n",
    "    vae_load_dir='C:/Users/sun/Desktop/tutorial/data/example_data/demo1/predata/save_model_1/demo1_vae.pth',\n",
    "    generate_save_dir='C:/Users/sun/Desktop/tutorial/data/example_data/demo1/predata/output_1', \n",
    "    generate_save_name='demo1_new',\n",
    "    ratio_num=1,\n",
    "    top_marker_num=500)"
   ]
  },
  {
   "cell_type": "code",
   "execution_count": null,
   "id": "4bfe7d09",
   "metadata": {},
   "outputs": [],
   "source": [
    "df_meta, df_data = model.train_df_and_spatial_deconvolution(\n",
    "    generate_sc_meta,\n",
    "    generate_sc_data,\n",
    "    input_st_data_path='E:/demo1/demo1_st_data.csv',\n",
    "    input_st_meta_path='E:/demo1/demo1_st_meta.csv',\n",
    "    spot_num=500,\n",
    "    cell_num=10,\n",
    "    df_save_dir='C:/Users/sun/Desktop/tutorial/data/example_data/demo1/predata/save_model_1/',\n",
    "    df_save_name='demo1_df',\n",
    "    map_save_dir='C:/Users/sun/Desktop/tutorial/data/example_data/demo1/result', \n",
    "    map_save_name='demo1',\n",
    "    top_marker_num=100,\n",
    "    marker_used=True,\n",
    "    k=5)"
   ]
  },
  {
   "cell_type": "code",
   "execution_count": null,
   "id": "96d4f375",
   "metadata": {},
   "outputs": [],
   "source": [
    "df_meta, df_data = model.load_df_and_spatial_deconvolution(\n",
    "    generate_sc_meta,\n",
    "    generate_sc_data,\n",
    "    input_st_data_path='E:/demo1/demo1_st_data.csv',\n",
    "    input_st_meta_path='E:/demo1/demo1_st_meta.csv',\n",
    "    spot_num=500,\n",
    "    cell_num=10,\n",
    "    df_load_dir='C:/Users/sun/Desktop/tutorial/data/example_data/demo1/predata/save_model_1/demo1_df',\n",
    "    map_save_dir='C:/Users/sun/Desktop/tutorial/data/example_data/demo1/result',  # file_dir\n",
    "    map_save_name='demo1_new',  \n",
    "    top_marker_num=500,\n",
    "    marker_used=True,\n",
    "    k=10)"
   ]
  }
 ],
 "metadata": {
  "kernelspec": {
   "display_name": "Python 3 (ipykernel)",
   "language": "python",
   "name": "python3"
  },
  "language_info": {
   "codemirror_mode": {
    "name": "ipython",
    "version": 3
   },
   "file_extension": ".py",
   "mimetype": "text/x-python",
   "name": "python",
   "nbconvert_exporter": "python",
   "pygments_lexer": "ipython3",
   "version": "3.9.18"
  }
 },
 "nbformat": 4,
 "nbformat_minor": 5
}
